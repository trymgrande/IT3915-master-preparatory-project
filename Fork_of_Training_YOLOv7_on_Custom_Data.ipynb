{
  "cells": [
    {
      "cell_type": "markdown",
      "metadata": {},
      "source": [
        "# todo\n",
        "  - test different:\n",
        "    - augmentations\n",
        "    - models\n",
        "        - v3/v7\n",
        "        - tiny/standard\n",
        "    - dataset sizes\n",
        "    - other parameters\n",
        "- test if 4 of same class is equivilant to 1 class\n",
        "- change from \"python3.9\" keywork\n",
        "- move to gpu cluster\n",
        "- code cleanup\n",
        "- documentation\n",
        "- fix class bug (1->0)"
      ]
    },
    {
      "cell_type": "markdown",
      "metadata": {},
      "source": [
        "# Remember:\n",
        "Restart kernel before running to reset current working directory."
      ]
    },
    {
      "cell_type": "markdown",
      "metadata": {
        "id": "GD9gUQpaBxNa"
      },
      "source": [
        "# How to Train YOLOv7 on a Custom Dataset\n",
        "\n",
        "This tutorial is based on the [YOLOv7 repository](https://github.com/WongKinYiu/yolov7) by WongKinYiu. This notebook shows training on **your own custom objects**. Many thanks to WongKinYiu and AlexeyAB for putting this repository together.\n",
        "\n",
        "\n",
        "### **Accompanying Blog Post**\n",
        "\n",
        "We recommend that you follow along in this notebook while reading the blog post on [how to train YOLOv7](https://blog.roboflow.com/yolov7-custom-dataset-training-tutorial/), concurrently.\n",
        "\n",
        "### **Steps Covered in this Tutorial**\n",
        "\n",
        "To train our detector we take the following steps:\n",
        "\n",
        "* Install YOLOv7 dependencies\n",
        "* Load custom dataset from Roboflow in YOLOv7 format\n",
        "* Run YOLOv7 training\n",
        "* Evaluate YOLOv7 performance\n",
        "* Run YOLOv7 inference on test images\n",
        "* OPTIONAL: Deployment\n",
        "* OPTIONAL: Active Learning\n",
        "\n",
        "\n",
        "### Preparing a Custom Dataset\n",
        "\n",
        "In this tutorial, we will utilize an open source computer vision dataset from one of the 90,000+ available on [Roboflow Universe](https://universe.roboflow.com).\n",
        "\n",
        "If you already have your own images (and, optionally, annotations), you can convert your dataset using [Roboflow](https://roboflow.com), a set of tools developers use to build better computer vision models quickly and accurately. 100k+ developers use roboflow for (automatic) annotation, converting dataset formats (like to YOLOv7), training, deploying, and improving their datasets/models.\n",
        "\n",
        "Follow [the getting started guide here](https://docs.roboflow.com/quick-start) to create and prepare your own custom dataset."
      ]
    },
    {
      "cell_type": "markdown",
      "metadata": {
        "id": "7mGmQbAO5pQb"
      },
      "source": [
        "#Install Dependencies\n",
        "\n",
        "_(Remember to choose GPU in Runtime if not already selected. Runtime --> Change Runtime Type --> Hardware accelerator --> GPU)_"
      ]
    },
    {
      "cell_type": "code",
      "execution_count": 1,
      "metadata": {},
      "outputs": [
        {
          "name": "stdout",
          "output_type": "stream",
          "text": [
            "/home/trymg/Dropbox/master/semester 3/IT3915 Master preparatory project\n"
          ]
        }
      ],
      "source": [
        "import os\n",
        "print(os.getcwd())"
      ]
    },
    {
      "cell_type": "code",
      "execution_count": 2,
      "metadata": {},
      "outputs": [
        {
          "name": "stdout",
          "output_type": "stream",
          "text": [
            "Defaulting to user installation because normal site-packages is not writeable\n",
            "Requirement already satisfied: roboflow in /home/trymg/.local/lib/python3.9/site-packages (from -r requirements.txt (line 1)) (0.2.15)\n",
            "Requirement already satisfied: albumentations in /home/trymg/.local/lib/python3.9/site-packages (from -r requirements.txt (line 2)) (1.3.0)\n",
            "Requirement already satisfied: opencv-python in /home/trymg/.local/lib/python3.9/site-packages (from -r requirements.txt (line 3)) (4.6.0.66)\n",
            "Requirement already satisfied: pyparsing==2.4.7 in /home/trymg/.local/lib/python3.9/site-packages (from roboflow->-r requirements.txt (line 1)) (2.4.7)\n",
            "Requirement already satisfied: requests in /usr/lib/python3/dist-packages (from roboflow->-r requirements.txt (line 1)) (2.25.1)\n",
            "Requirement already satisfied: chardet==4.0.0 in /usr/lib/python3/dist-packages (from roboflow->-r requirements.txt (line 1)) (4.0.0)\n",
            "Requirement already satisfied: python-dateutil in /home/trymg/.local/lib/python3.9/site-packages (from roboflow->-r requirements.txt (line 1)) (2.8.1)\n",
            "Requirement already satisfied: certifi==2021.5.30 in /home/trymg/.local/lib/python3.9/site-packages (from roboflow->-r requirements.txt (line 1)) (2021.5.30)\n",
            "Requirement already satisfied: cycler==0.10.0 in /home/trymg/.local/lib/python3.9/site-packages (from roboflow->-r requirements.txt (line 1)) (0.10.0)\n",
            "Requirement already satisfied: kiwisolver==1.3.1 in /home/trymg/.local/lib/python3.9/site-packages (from roboflow->-r requirements.txt (line 1)) (1.3.1)\n",
            "Requirement already satisfied: opencv-python-headless>=4.5.1.48 in /home/trymg/.local/lib/python3.9/site-packages (from roboflow->-r requirements.txt (line 1)) (4.6.0.66)\n",
            "Requirement already satisfied: urllib3==1.26.6 in /home/trymg/.local/lib/python3.9/site-packages (from roboflow->-r requirements.txt (line 1)) (1.26.6)\n",
            "Requirement already satisfied: idna==2.10 in /usr/local/lib/python3.9/dist-packages (from roboflow->-r requirements.txt (line 1)) (2.10)\n",
            "Requirement already satisfied: glob2 in /home/trymg/.local/lib/python3.9/site-packages (from roboflow->-r requirements.txt (line 1)) (0.7)\n",
            "Requirement already satisfied: requests-toolbelt in /usr/lib/python3/dist-packages (from roboflow->-r requirements.txt (line 1)) (0.9.1)\n",
            "Requirement already satisfied: six in /usr/lib/python3/dist-packages (from roboflow->-r requirements.txt (line 1)) (1.16.0)\n",
            "Requirement already satisfied: Pillow>=7.1.2 in /home/trymg/.local/lib/python3.9/site-packages (from roboflow->-r requirements.txt (line 1)) (9.2.0)\n",
            "Requirement already satisfied: matplotlib in /home/trymg/.local/lib/python3.9/site-packages (from roboflow->-r requirements.txt (line 1)) (3.4.2)\n",
            "Requirement already satisfied: PyYAML>=5.3.1 in /usr/lib/python3/dist-packages (from roboflow->-r requirements.txt (line 1)) (5.4.1)\n",
            "Requirement already satisfied: tqdm>=4.41.0 in /home/trymg/.local/lib/python3.9/site-packages (from roboflow->-r requirements.txt (line 1)) (4.63.0)\n",
            "Requirement already satisfied: wget in /home/trymg/.local/lib/python3.9/site-packages (from roboflow->-r requirements.txt (line 1)) (3.2)\n",
            "Requirement already satisfied: numpy>=1.18.5 in /home/trymg/.local/lib/python3.9/site-packages (from roboflow->-r requirements.txt (line 1)) (1.20.3)\n",
            "Requirement already satisfied: python-dotenv in /usr/lib/python3/dist-packages (from roboflow->-r requirements.txt (line 1)) (0.19.2)\n",
            "Requirement already satisfied: scipy in /home/trymg/.local/lib/python3.9/site-packages (from albumentations->-r requirements.txt (line 2)) (1.6.3)\n",
            "Requirement already satisfied: scikit-image>=0.16.1 in /home/trymg/.local/lib/python3.9/site-packages (from albumentations->-r requirements.txt (line 2)) (0.19.3)\n",
            "Requirement already satisfied: qudida>=0.0.4 in /home/trymg/.local/lib/python3.9/site-packages (from albumentations->-r requirements.txt (line 2)) (0.0.4)\n",
            "Requirement already satisfied: typing-extensions in /home/trymg/.local/lib/python3.9/site-packages (from qudida>=0.0.4->albumentations->-r requirements.txt (line 2)) (4.1.1)\n",
            "Requirement already satisfied: scikit-learn>=0.19.1 in /home/trymg/.local/lib/python3.9/site-packages (from qudida>=0.0.4->albumentations->-r requirements.txt (line 2)) (1.0.2)\n",
            "Requirement already satisfied: tifffile>=2019.7.26 in /home/trymg/.local/lib/python3.9/site-packages (from scikit-image>=0.16.1->albumentations->-r requirements.txt (line 2)) (2022.8.12)\n",
            "Requirement already satisfied: networkx>=2.2 in /home/trymg/.local/lib/python3.9/site-packages (from scikit-image>=0.16.1->albumentations->-r requirements.txt (line 2)) (2.8.6)\n",
            "Requirement already satisfied: packaging>=20.0 in /home/trymg/.local/lib/python3.9/site-packages (from scikit-image>=0.16.1->albumentations->-r requirements.txt (line 2)) (20.9)\n",
            "Requirement already satisfied: imageio>=2.4.1 in /home/trymg/.local/lib/python3.9/site-packages (from scikit-image>=0.16.1->albumentations->-r requirements.txt (line 2)) (2.22.0)\n",
            "Requirement already satisfied: PyWavelets>=1.1.1 in /home/trymg/.local/lib/python3.9/site-packages (from scikit-image>=0.16.1->albumentations->-r requirements.txt (line 2)) (1.4.1)\n",
            "Requirement already satisfied: joblib>=0.11 in /home/trymg/.local/lib/python3.9/site-packages (from scikit-learn>=0.19.1->qudida>=0.0.4->albumentations->-r requirements.txt (line 2)) (1.0.1)\n",
            "Requirement already satisfied: threadpoolctl>=2.0.0 in /home/trymg/.local/lib/python3.9/site-packages (from scikit-learn>=0.19.1->qudida>=0.0.4->albumentations->-r requirements.txt (line 2)) (2.1.0)\n"
          ]
        }
      ],
      "source": [
        "!python3.9 -m pip install -r requirements.txt"
      ]
    },
    {
      "cell_type": "code",
      "execution_count": 3,
      "metadata": {
        "colab": {
          "base_uri": "https://localhost:8080/"
        },
        "id": "nD-uPyQ_2jiN",
        "outputId": "fbbc3b6b-3dce-471e-f9d2-a4703201ff52"
      },
      "outputs": [
        {
          "name": "stdout",
          "output_type": "stream",
          "text": [
            "fatal: destination path 'yolov7' already exists and is not an empty directory.\n",
            "/home/trymg/Dropbox/master/semester 3/IT3915 Master preparatory project/yolov7\n",
            "Defaulting to user installation because normal site-packages is not writeable\n",
            "Requirement already satisfied: matplotlib>=3.2.2 in /home/trymg/.local/lib/python3.9/site-packages (from -r requirements.txt (line 4)) (3.4.2)\n",
            "Requirement already satisfied: numpy>=1.18.5 in /home/trymg/.local/lib/python3.9/site-packages (from -r requirements.txt (line 5)) (1.20.3)\n",
            "Requirement already satisfied: opencv-python>=4.1.1 in /home/trymg/.local/lib/python3.9/site-packages (from -r requirements.txt (line 6)) (4.6.0.66)\n",
            "Requirement already satisfied: Pillow>=7.1.2 in /home/trymg/.local/lib/python3.9/site-packages (from -r requirements.txt (line 7)) (9.2.0)\n",
            "Requirement already satisfied: PyYAML>=5.3.1 in /usr/lib/python3/dist-packages (from -r requirements.txt (line 8)) (5.4.1)\n",
            "Requirement already satisfied: requests>=2.23.0 in /usr/lib/python3/dist-packages (from -r requirements.txt (line 9)) (2.25.1)\n",
            "Requirement already satisfied: scipy>=1.4.1 in /home/trymg/.local/lib/python3.9/site-packages (from -r requirements.txt (line 10)) (1.6.3)\n",
            "Requirement already satisfied: torch!=1.12.0,>=1.7.0 in /home/trymg/.local/lib/python3.9/site-packages (from -r requirements.txt (line 11)) (1.12.1+cu116)\n",
            "Requirement already satisfied: torchvision!=0.13.0,>=0.8.1 in /home/trymg/.local/lib/python3.9/site-packages (from -r requirements.txt (line 12)) (0.13.1+cu116)\n",
            "Requirement already satisfied: tqdm>=4.41.0 in /home/trymg/.local/lib/python3.9/site-packages (from -r requirements.txt (line 13)) (4.63.0)\n",
            "Requirement already satisfied: protobuf<4.21.3 in /home/trymg/.local/lib/python3.9/site-packages (from -r requirements.txt (line 14)) (3.19.4)\n",
            "Requirement already satisfied: tensorboard>=2.4.1 in /home/trymg/.local/lib/python3.9/site-packages (from -r requirements.txt (line 17)) (2.10.0)\n",
            "Requirement already satisfied: pandas>=1.1.4 in /home/trymg/.local/lib/python3.9/site-packages (from -r requirements.txt (line 21)) (1.2.4)\n",
            "Requirement already satisfied: seaborn>=0.11.0 in /usr/local/lib/python3.9/dist-packages (from -r requirements.txt (line 22)) (0.11.1)\n",
            "Requirement already satisfied: ipython in /home/trymg/.local/lib/python3.9/site-packages (from -r requirements.txt (line 34)) (7.23.1)\n",
            "Requirement already satisfied: psutil in /usr/lib/python3/dist-packages (from -r requirements.txt (line 35)) (5.9.0)\n",
            "Requirement already satisfied: thop in /home/trymg/.local/lib/python3.9/site-packages (from -r requirements.txt (line 36)) (0.1.1.post2209072238)\n",
            "Requirement already satisfied: kiwisolver>=1.0.1 in /home/trymg/.local/lib/python3.9/site-packages (from matplotlib>=3.2.2->-r requirements.txt (line 4)) (1.3.1)\n",
            "Requirement already satisfied: cycler>=0.10 in /home/trymg/.local/lib/python3.9/site-packages (from matplotlib>=3.2.2->-r requirements.txt (line 4)) (0.10.0)\n",
            "Requirement already satisfied: python-dateutil>=2.7 in /home/trymg/.local/lib/python3.9/site-packages (from matplotlib>=3.2.2->-r requirements.txt (line 4)) (2.8.1)\n",
            "Requirement already satisfied: pyparsing>=2.2.1 in /home/trymg/.local/lib/python3.9/site-packages (from matplotlib>=3.2.2->-r requirements.txt (line 4)) (2.4.7)\n",
            "Requirement already satisfied: typing-extensions in /home/trymg/.local/lib/python3.9/site-packages (from torch!=1.12.0,>=1.7.0->-r requirements.txt (line 11)) (4.1.1)\n",
            "Requirement already satisfied: google-auth<3,>=1.6.3 in /home/trymg/.local/lib/python3.9/site-packages (from tensorboard>=2.4.1->-r requirements.txt (line 17)) (2.11.0)\n",
            "Requirement already satisfied: tensorboard-plugin-wit>=1.6.0 in /home/trymg/.local/lib/python3.9/site-packages (from tensorboard>=2.4.1->-r requirements.txt (line 17)) (1.8.1)\n",
            "Requirement already satisfied: absl-py>=0.4 in /home/trymg/.local/lib/python3.9/site-packages (from tensorboard>=2.4.1->-r requirements.txt (line 17)) (1.2.0)\n",
            "Requirement already satisfied: wheel>=0.26 in /usr/lib/python3/dist-packages (from tensorboard>=2.4.1->-r requirements.txt (line 17)) (0.37.1)\n",
            "Requirement already satisfied: google-auth-oauthlib<0.5,>=0.4.1 in /home/trymg/.local/lib/python3.9/site-packages (from tensorboard>=2.4.1->-r requirements.txt (line 17)) (0.4.6)\n",
            "Requirement already satisfied: setuptools>=41.0.0 in /usr/lib/python3/dist-packages (from tensorboard>=2.4.1->-r requirements.txt (line 17)) (59.6.0)\n",
            "Requirement already satisfied: markdown>=2.6.8 in /home/trymg/.local/lib/python3.9/site-packages (from tensorboard>=2.4.1->-r requirements.txt (line 17)) (3.4.1)\n",
            "Requirement already satisfied: werkzeug>=1.0.1 in /home/trymg/.local/lib/python3.9/site-packages (from tensorboard>=2.4.1->-r requirements.txt (line 17)) (2.2.2)\n",
            "Requirement already satisfied: grpcio>=1.24.3 in /home/trymg/.local/lib/python3.9/site-packages (from tensorboard>=2.4.1->-r requirements.txt (line 17)) (1.48.1)\n",
            "Requirement already satisfied: tensorboard-data-server<0.7.0,>=0.6.0 in /home/trymg/.local/lib/python3.9/site-packages (from tensorboard>=2.4.1->-r requirements.txt (line 17)) (0.6.1)\n",
            "Requirement already satisfied: pytz>=2017.3 in /home/trymg/.local/lib/python3.9/site-packages (from pandas>=1.1.4->-r requirements.txt (line 21)) (2021.1)\n",
            "Requirement already satisfied: pygments in /home/trymg/.local/lib/python3.9/site-packages (from ipython->-r requirements.txt (line 34)) (2.9.0)\n",
            "Requirement already satisfied: jedi>=0.16 in /home/trymg/.local/lib/python3.9/site-packages (from ipython->-r requirements.txt (line 34)) (0.18.0)\n",
            "Requirement already satisfied: matplotlib-inline in /home/trymg/.local/lib/python3.9/site-packages (from ipython->-r requirements.txt (line 34)) (0.1.2)\n",
            "Requirement already satisfied: traitlets>=4.2 in /home/trymg/.local/lib/python3.9/site-packages (from ipython->-r requirements.txt (line 34)) (5.0.5)\n",
            "Requirement already satisfied: pickleshare in /home/trymg/.local/lib/python3.9/site-packages (from ipython->-r requirements.txt (line 34)) (0.7.5)\n",
            "Requirement already satisfied: decorator in /home/trymg/.local/lib/python3.9/site-packages (from ipython->-r requirements.txt (line 34)) (5.0.9)\n",
            "Requirement already satisfied: backcall in /home/trymg/.local/lib/python3.9/site-packages (from ipython->-r requirements.txt (line 34)) (0.2.0)\n",
            "Requirement already satisfied: pexpect>4.3 in /home/trymg/.local/lib/python3.9/site-packages (from ipython->-r requirements.txt (line 34)) (4.8.0)\n",
            "Requirement already satisfied: prompt-toolkit!=3.0.0,!=3.0.1,<3.1.0,>=2.0.0 in /home/trymg/.local/lib/python3.9/site-packages (from ipython->-r requirements.txt (line 34)) (3.0.18)\n",
            "Requirement already satisfied: six in /usr/lib/python3/dist-packages (from cycler>=0.10->matplotlib>=3.2.2->-r requirements.txt (line 4)) (1.16.0)\n",
            "Requirement already satisfied: cachetools<6.0,>=2.0.0 in /home/trymg/.local/lib/python3.9/site-packages (from google-auth<3,>=1.6.3->tensorboard>=2.4.1->-r requirements.txt (line 17)) (5.2.0)\n",
            "Requirement already satisfied: pyasn1-modules>=0.2.1 in /home/trymg/.local/lib/python3.9/site-packages (from google-auth<3,>=1.6.3->tensorboard>=2.4.1->-r requirements.txt (line 17)) (0.2.8)\n",
            "Requirement already satisfied: rsa<5,>=3.1.4 in /home/trymg/.local/lib/python3.9/site-packages (from google-auth<3,>=1.6.3->tensorboard>=2.4.1->-r requirements.txt (line 17)) (4.9)\n",
            "Requirement already satisfied: requests-oauthlib>=0.7.0 in /home/trymg/.local/lib/python3.9/site-packages (from google-auth-oauthlib<0.5,>=0.4.1->tensorboard>=2.4.1->-r requirements.txt (line 17)) (1.3.1)\n",
            "Requirement already satisfied: parso<0.9.0,>=0.8.0 in /home/trymg/.local/lib/python3.9/site-packages (from jedi>=0.16->ipython->-r requirements.txt (line 34)) (0.8.2)\n",
            "Requirement already satisfied: importlib-metadata>=4.4 in /usr/lib/python3/dist-packages (from markdown>=2.6.8->tensorboard>=2.4.1->-r requirements.txt (line 17)) (4.6.4)\n",
            "Requirement already satisfied: ptyprocess>=0.5 in /home/trymg/.local/lib/python3.9/site-packages (from pexpect>4.3->ipython->-r requirements.txt (line 34)) (0.7.0)\n",
            "Requirement already satisfied: wcwidth in /home/trymg/.local/lib/python3.9/site-packages (from prompt-toolkit!=3.0.0,!=3.0.1,<3.1.0,>=2.0.0->ipython->-r requirements.txt (line 34)) (0.2.5)\n",
            "Requirement already satisfied: ipython-genutils in /home/trymg/.local/lib/python3.9/site-packages (from traitlets>=4.2->ipython->-r requirements.txt (line 34)) (0.2.0)\n",
            "Requirement already satisfied: MarkupSafe>=2.1.1 in /home/trymg/.local/lib/python3.9/site-packages (from werkzeug>=1.0.1->tensorboard>=2.4.1->-r requirements.txt (line 17)) (2.1.1)\n",
            "Requirement already satisfied: pyasn1<0.5.0,>=0.4.6 in /home/trymg/.local/lib/python3.9/site-packages (from pyasn1-modules>=0.2.1->google-auth<3,>=1.6.3->tensorboard>=2.4.1->-r requirements.txt (line 17)) (0.4.8)\n",
            "Requirement already satisfied: oauthlib>=3.0.0 in /usr/lib/python3/dist-packages (from requests-oauthlib>=0.7.0->google-auth-oauthlib<0.5,>=0.4.1->tensorboard>=2.4.1->-r requirements.txt (line 17)) (3.2.0)\n"
          ]
        }
      ],
      "source": [
        "# Download YOLOv7 repository and install requirements\n",
        "!git clone https://github.com/WongKinYiu/yolov7\n",
        "%cd yolov7\n",
        "!python3.9 -m pip install -r requirements.txt"
      ]
    },
    {
      "cell_type": "markdown",
      "metadata": {},
      "source": [
        "# Set parameters"
      ]
    },
    {
      "cell_type": "code",
      "execution_count": 4,
      "metadata": {},
      "outputs": [],
      "source": [
        "\n",
        "PROJECT_NAME = \"Merged-sheep-dataset\"\n",
        "PROJECT_VERSION = 1\n",
        "PROJECT_DIRECTORY = f\"{PROJECT_NAME}-{PROJECT_VERSION}\"\n",
        "\n",
        "AUGMENTATION = True\n",
        "AUGMENTATIONS = float('inf')"
      ]
    },
    {
      "cell_type": "markdown",
      "metadata": {
        "id": "mtJ24mPlyF-S"
      },
      "source": [
        "# Download Correctly Formatted Custom Data\n",
        "\n",
        "Next, we'll download our dataset in the right format. Use the `YOLOv7 PyTorch` export. Note that this model requires YOLO TXT annotations, a custom YAML file, and organized directories. The roboflow export writes this for us and saves it in the correct spot.\n"
      ]
    },
    {
      "cell_type": "code",
      "execution_count": 5,
      "metadata": {},
      "outputs": [
        {
          "name": "stdout",
          "output_type": "stream",
          "text": [
            "loading Roboflow workspace...\n",
            "loading Roboflow project...\n",
            "Downloading Dataset Version Zip in Merged-sheep-dataset-1 to yolov7pytorch: 100% [3425889 / 3425889] bytes\n"
          ]
        },
        {
          "name": "stderr",
          "output_type": "stream",
          "text": [
            "Extracting Dataset Version Zip to Merged-sheep-dataset-1 in yolov7pytorch:: 100%|██████████| 6140/6140 [00:00<00:00, 13212.25it/s]\n"
          ]
        },
        {
          "data": {
            "text/plain": [
              "'/home/trymg/Dropbox/master/semester 3/IT3915 Master preparatory project/yolov7'"
            ]
          },
          "execution_count": 5,
          "metadata": {},
          "output_type": "execute_result"
        }
      ],
      "source": [
        "from roboflow import Roboflow\n",
        "\n",
        "# print(rf.workspace().projects()) # for debugging\n",
        "\n",
        "# custom code snippet generated from roboflow dataset using the export function\n",
        "\n",
        "# # old dataset with 4k images:\n",
        "# rf = Roboflow(api_key=\"Sf4Q132h8vYyzxbVfF7t\")\n",
        "# project = rf.workspace(\"it3915masterpreparatoryproject\").project(\"sheep-detection-2\")\n",
        "# dataset = project.version(3).download(\"yolov7\")\n",
        "\n",
        "# new merged dataset with 6k images:\n",
        "from roboflow import Roboflow\n",
        "rf = Roboflow(api_key=\"Sf4Q132h8vYyzxbVfF7t\")\n",
        "project = rf.workspace(\"it3915masterpreparatoryproject\").project(\"merged-sheep-dataset\")\n",
        "dataset = project.version(1).download(\"yolov7\")\n",
        "\n",
        "\n",
        "# os.rename(f\"./yolov7/{PROJECT_DIRECTORY}\", f\"./yolov7/{PROJECT_NAME}\")"
      ]
    },
    {
      "cell_type": "markdown",
      "metadata": {},
      "source": [
        "# Custom image augmentation using Albumentations"
      ]
    },
    {
      "cell_type": "markdown",
      "metadata": {},
      "source": [
        "## Augmentation plot utils"
      ]
    },
    {
      "cell_type": "code",
      "execution_count": null,
      "metadata": {},
      "outputs": [],
      "source": [
        "import random\n",
        "import cv2\n",
        "from matplotlib import pyplot as plt\n",
        "import matplotlib.patches as patches\n",
        "import numpy as np\n",
        "import albumentations as A\n",
        "\n",
        "\n",
        "\n",
        "def plot_examples(images, bboxes=None):\n",
        "    fig = plt.figure(figsize=(15, 15))\n",
        "    columns = 4\n",
        "    rows = 5\n",
        "\n",
        "    for i in range(1, len(images)):\n",
        "        if bboxes is not None:\n",
        "            img = visualize_bbox(images[i - 1], bboxes[i - 1], class_name=\"sheep\")\n",
        "        else:\n",
        "            img = images[i-1]\n",
        "        fig.add_subplot(rows, columns, i)\n",
        "        plt.imshow(img)\n",
        "    plt.show()\n",
        "\n",
        "\n",
        "# From https://albumentations.ai/docs/examples/example_bboxes/\n",
        "def visualize_bbox(img, bbox, class_name, color=(255, 0, 0), thickness=5):\n",
        "    \"\"\"Visualizes a single bounding box on the image\"\"\"\n",
        "    x_min, y_min, x_max, y_max = map(int, bbox)\n",
        "    # cv2.rectangle(img, (x_min, y_min), (x_max, y_max), color, thickness)\n",
        "    cv2.rectangle(img, (int(bbox[0]), int(bbox[1])), (int(bbox[2]), int(bbox[3])), color, thickness)\n",
        "    \n",
        "    return img"
      ]
    },
    {
      "cell_type": "code",
      "execution_count": null,
      "metadata": {},
      "outputs": [],
      "source": [
        "# https://albumentations.ai/docs/examples/example_bboxes2/\n",
        "\n",
        "def visualize(image, bboxes, category_ids, category_id_to_name):\n",
        "    img = image.copy()\n",
        "    for bbox, category_id in zip(bboxes, category_ids):\n",
        "        class_name = category_id_to_name[category_id]\n",
        "        img = visualize_bbox(img, bbox, class_name)\n",
        "    plt.figure(figsize=(12, 12))\n",
        "    plt.axis('off')\n",
        "    plt.imshow(img)"
      ]
    },
    {
      "cell_type": "code",
      "execution_count": null,
      "metadata": {},
      "outputs": [],
      "source": [
        "# copied from: https://www.kaggle.com/code/reighns/augmentations-data-cleaning-and-bounding-boxes/notebook\n",
        "\n",
        "def draw_rect_with_labels(img, bboxes,class_id, class_dict={1: 'sheep'}, color=None):\n",
        "    img = img.copy()\n",
        "    bboxes = bboxes[:, :4]\n",
        "    bboxes = bboxes.reshape(-1, 4)\n",
        "    for bbox, label in zip(bboxes, class_id):\n",
        "        pt1, pt2 = (bbox[0], bbox[1]), (bbox[2], bbox[3])\n",
        "        pt1 = int(pt1[0]), int(pt1[1])\n",
        "        pt2 = int(pt2[0]), int(pt2[1])\n",
        "        class_name = class_dict[label]\n",
        "        ((text_width, text_height), _) = cv2.getTextSize(class_name, cv2.FONT_HERSHEY_SIMPLEX, 0.35, 1) \n",
        "        img = cv2.rectangle(img.copy(), pt1, pt2, color, int(max(img.shape[:2]) / 200))\n",
        "        img = cv2.putText(img.copy(), class_name, (int(bbox[0]), int(bbox[1]) - int(0.3 * text_height)), cv2.FONT_HERSHEY_SIMPLEX,fontScale=1,color = (255,255,255), lineType=cv2.LINE_AA)\n",
        "    return img"
      ]
    },
    {
      "cell_type": "markdown",
      "metadata": {},
      "source": [
        "## Augmentation classification"
      ]
    },
    {
      "cell_type": "code",
      "execution_count": null,
      "metadata": {},
      "outputs": [],
      "source": [
        "from cmath import inf\n",
        "import cv2\n",
        "import albumentations as A\n",
        "import numpy as np\n",
        "from PIL import Image\n",
        "import os, os.path\n",
        "import shutil"
      ]
    },
    {
      "cell_type": "code",
      "execution_count": null,
      "metadata": {},
      "outputs": [],
      "source": [
        "if AUGMENTATION: \n",
        "    CLASS_LABEL = '0'\n",
        "\n",
        "    # load train images\n",
        "    images = []\n",
        "    images_load_path = f\"./{PROJECT_DIRECTORY}/train/images/\"\n",
        "    valid_images = [\".jpg\",\".gif\",\".png\",\".tga\"]\n",
        "\n",
        "    LIMIT = AUGMENTATIONS\n",
        "    i = 0\n",
        "    for image_file_name in os.listdir(images_load_path):\n",
        "        if i == LIMIT:\n",
        "            break\n",
        "        ext = os.path.splitext(image_file_name)[1]\n",
        "        if ext.lower() not in valid_images:\n",
        "            continue\n",
        "        images.append(cv2.imread(os.path.join(images_load_path, image_file_name)))\n",
        "        i += 1\n",
        "\n",
        "\n",
        "    # load train labels\n",
        "    labels = [] # one label per image, multiple bboxes per image\n",
        "    labels_load_path = f\"./{PROJECT_DIRECTORY}/train/labels/\"\n",
        "    i = 0\n",
        "    for label_file_name in os.listdir(labels_load_path):\n",
        "        if i == LIMIT:\n",
        "            break\n",
        "        label = open(os.path.join(labels_load_path, label_file_name), \"r\")\n",
        "        bboxes = []\n",
        "        for bbox in label:\n",
        "            bbox = np.array(bbox.split(' ')[1:]).astype(np.float32)\n",
        "            bboxes.append(bbox)\n",
        "        labels.append(bboxes)\n",
        "        i += 1\n",
        "\n",
        "\n",
        "\n",
        "    # augment images using transformation\n",
        "\n",
        "    augmented_labels = []\n",
        "    augmented_images_nd = []\n",
        "    for image, label in zip(images, labels):\n",
        "        label = np.array(label)\n",
        "\n",
        "        transform = A.Compose(\n",
        "            [\n",
        "                A.RandomCrop(width=640, height=640),\n",
        "                A.Rotate(border_mode=cv2.BORDER_CONSTANT),\n",
        "                A.HorizontalFlip(),\n",
        "                A.VerticalFlip(),\n",
        "                A.RGBShift(r_shift_limit=25, g_shift_limit=25, b_shift_limit=25, p=0.9),\n",
        "                A.OneOf([\n",
        "                    A.Blur(blur_limit=3, p=0.5),\n",
        "                    A.ColorJitter(p=0.5),\n",
        "                ], p=1.0),\n",
        "                A.RandomBrightnessContrast()\n",
        "            ],\n",
        "            bbox_params=A.BboxParams(format='yolo', label_fields=['class_labels'])\n",
        "        )\n",
        "        \n",
        "        augmentation = transform(image=image, bboxes=label, class_labels=[CLASS_LABEL]*len(label))\n",
        "        augmented_img = augmentation[\"image\"]\n",
        "        augmented_label = augmentation[\"bboxes\"]\n",
        "        augmented_labels.append(augmented_label)\n",
        "        # augmented_category_ids = [int(CLASS_LABEL)]*len(label)\n",
        "        augmented_images_nd.append(augmented_img)\n",
        "        \n",
        "        # draw_image = draw_rect_with_labels(augmented_img, label, [1]*len(label))\n",
        "\n",
        "        # visualize(\n",
        "        #     augmented_img,\n",
        "        #     augmented_label,\n",
        "        #     augmented_category_ids,\n",
        "        #     {1: 'sheep', 2: 'sheep', 3: 'sheep', 0: 'sheep'}\n",
        "        # )\n",
        "\n",
        "        # plt.figure()\n",
        "        # plt.imshow(augmented_img)\n",
        "\n",
        "\n",
        "        # augment_and_show(transform, image)\n",
        "\n",
        "\n",
        "    # plot_examples(augmented_images_nd) # comment out to save runtime\n",
        "\n",
        "\n",
        "    augmented_images = [Image.fromarray(augmented_image_nd) for augmented_image_nd in augmented_images_nd]\n",
        "\n",
        "    # create image save dir\n",
        "    img_save_dir = f\"./{PROJECT_DIRECTORY}/train/images\"\n",
        "\n",
        "\n",
        "    # save augmented images\n",
        "    for i in range(len(augmented_images)):\n",
        "        image_file_name = f\"{i}.png\"\n",
        "        image_dir = os.path.join(img_save_dir, image_file_name)\n",
        "        augmented_images[i].save(image_dir)\n",
        "        print(f\"saved augmented image: {image_dir}\")\n",
        "\n",
        "\n",
        "    # create labels save dir\n",
        "    labels_save_dir = f\"./{PROJECT_DIRECTORY}/train/labels\"\n",
        "\n",
        "    # write augmented labels\n",
        "    for i in range(len(augmented_labels)):\n",
        "        label_file_name = f\"{i}.txt\"\n",
        "        label_dir = os.path.join(labels_save_dir, label_file_name)\n",
        "        with open(label_dir, 'w') as f:\n",
        "            for bbox in augmented_labels[i]:\n",
        "                f.write(f\"{CLASS_LABEL} {bbox[0]} {bbox[1]} {bbox[2]} {bbox[3]}\\n\")\n",
        "        print(f\"saved augmented label: {label_dir}\")\n"
      ]
    },
    {
      "cell_type": "markdown",
      "metadata": {
        "id": "bHfT9gEiBsBd"
      },
      "source": [
        "# Begin Custom Training\n",
        "\n",
        "We're ready to start custom training.\n",
        "\n",
        "NOTE: We will only modify one of the YOLOv7 training defaults in our example: `epochs`. We will adjust from 300 to 100 epochs in our example for speed. If you'd like to change other settings, see details in [our accompanying blog post](https://blog.roboflow.com/yolov7-custom-dataset-training-tutorial/)."
      ]
    },
    {
      "cell_type": "code",
      "execution_count": null,
      "metadata": {
        "colab": {
          "base_uri": "https://localhost:8080/"
        },
        "id": "bUbmy674bhpD",
        "outputId": "081fb899-7c47-4af4-ff1b-565b7d33b4f7"
      },
      "outputs": [],
      "source": [
        "# download COCO starting checkpoint (weights)\n",
        "!wget https://github.com/WongKinYiu/yolov7/releases/download/v0.1/yolov7-tiny.pt"
      ]
    },
    {
      "cell_type": "code",
      "execution_count": null,
      "metadata": {},
      "outputs": [],
      "source": [
        "# image results from previous runs are deleted\n",
        "!rm runs/train/* -rf \n",
        "!rm runs/detect/* -rf\n",
        "# may need to remove labels.cache and/or images.cache beforehand?"
      ]
    },
    {
      "cell_type": "code",
      "execution_count": null,
      "metadata": {
        "colab": {
          "base_uri": "https://localhost:8080/"
        },
        "id": "1iqOPKjr22mL",
        "outputId": "7ae0f2c4-d080-4bee-8f8d-e52d9f789c62"
      },
      "outputs": [],
      "source": [
        "!python3.9 train.py --batch-size 16 --epochs 20 --data Merged-sheep-dataset-1/data.yaml --weights 'yolov7-tiny.pt' --device 0 "
      ]
    },
    {
      "cell_type": "code",
      "execution_count": null,
      "metadata": {},
      "outputs": [],
      "source": [
        "# todo check if dir not empty\n",
        "\n",
        "if AUGMENTATION: \n",
        "\n",
        "    # remove augmented images\n",
        "    img_save_dir = f\"./{PROJECT_DIRECTORY}/train/images\"\n",
        "    for i in range(len(augmented_images)):\n",
        "        image_file_name = f\"{i}.png\"\n",
        "        image_dir = os.path.join(img_save_dir, image_file_name)\n",
        "        os.remove(os.path.join(img_save_dir, image_file_name))\n",
        "        print(f\"removed image: {image_dir}\")\n",
        "\n",
        "    # remove augmented labels\n",
        "    labels_save_dir = f\"./{PROJECT_DIRECTORY}/train/labels\"\n",
        "    for i in range(len(labels)):\n",
        "        label_file_name = f\"{i}.txt\"\n",
        "        label_dir = os.path.join(labels_save_dir, label_file_name)\n",
        "        os.remove(os.path.join(labels_save_dir, label_file_name))\n",
        "        print(f\"removed label: {label_dir}\")\n"
      ]
    },
    {
      "cell_type": "markdown",
      "metadata": {
        "id": "0W0MpUaTCJro"
      },
      "source": [
        "# Evaluation\n",
        "\n",
        "We can evaluate the performance of our custom training using the provided evalution script.\n",
        "\n",
        "Note we can adjust the below custom arguments. For details, see [the arguments accepted by detect.py](https://github.com/WongKinYiu/yolov7/blob/main/detect.py#L154)."
      ]
    },
    {
      "cell_type": "code",
      "execution_count": null,
      "metadata": {
        "id": "N4cfnLtTCIce"
      },
      "outputs": [],
      "source": [
        "# Run evaluation\n",
        "!python3.9 detect.py --weights runs/train/exp/weights/best.pt --conf 0.3 --source Merged-sheep-dataset-1/train/images\n"
      ]
    },
    {
      "cell_type": "code",
      "execution_count": null,
      "metadata": {
        "id": "6AGhNOSSHY4_"
      },
      "outputs": [],
      "source": [
        "import glob\n",
        "from IPython.display import Image, display\n",
        "\n",
        "i = 0\n",
        "limit = 10000 # max images to print\n",
        "for imageName in glob.glob('runs/detect/exp/*.jpg'): #assuming JPG\n",
        "    print(imageName)\n",
        "    if i < limit:\n",
        "      display(Image(filename=imageName))\n",
        "      print(\"\\n\")\n",
        "    i = i + 1\n",
        "    "
      ]
    },
    {
      "cell_type": "markdown",
      "metadata": {
        "id": "aMumI7a2JDAN"
      },
      "source": [
        "# Reparameterize for Inference\n",
        "\n",
        "https://github.com/WongKinYiu/yolov7/blob/main/tools/reparameterization.ipynb"
      ]
    },
    {
      "cell_type": "markdown",
      "metadata": {
        "id": "4jn4kCtgKiGO"
      },
      "source": [
        "# OPTIONAL: Deployment\n",
        "\n",
        "To deploy, you'll need to export your weights and save them to use later."
      ]
    },
    {
      "cell_type": "markdown",
      "metadata": {},
      "source": [
        "## export results"
      ]
    },
    {
      "cell_type": "code",
      "execution_count": null,
      "metadata": {
        "id": "wWOok8abrCsL"
      },
      "outputs": [],
      "source": [
        "# # optional, zip to download weights and results locally\n",
        "\n",
        "!zip -r export.zip runs/detect\n",
        "!zip -r export.zip runs/train/exp/weights/best.pt\n",
        "!zip export.zip runs/train/exp/*"
      ]
    },
    {
      "cell_type": "markdown",
      "metadata": {
        "id": "f41PvE5gKhYw"
      },
      "source": [
        "# OPTIONAL: Active Learning Example\n",
        "\n",
        "Once our first training run is complete, we should use our model to help identify which images are most problematic in order to investigate, annotate, and improve our dataset (and, therefore, model).\n",
        "\n",
        "To do that, we can execute code that automatically uploads images back to our hosted dataset if the image is a specific class or below a given confidence threshold.\n"
      ]
    },
    {
      "cell_type": "code",
      "execution_count": null,
      "metadata": {
        "id": "mcINqQS7Kt3-"
      },
      "outputs": [],
      "source": [
        "# # setup access to your workspace\n",
        "# rf = Roboflow(api_key=\"YOUR_API_KEY\")                               # used above to load data\n",
        "# inference_project =  rf.workspace().project(\"YOUR_PROJECT_NAME\")    # used above to load data\n",
        "# model = inference_project.version(1).model\n",
        "\n",
        "# upload_project = rf.workspace().project(\"YOUR_PROJECT_NAME\")\n",
        "\n",
        "# print(\"inference reference point: \", inference_project)\n",
        "# print(\"upload destination: \", upload_project)"
      ]
    },
    {
      "cell_type": "code",
      "execution_count": null,
      "metadata": {
        "id": "cEl1NVE3LSD_"
      },
      "outputs": [],
      "source": [
        "# # example upload: if prediction is below a given confidence threshold, upload it \n",
        "\n",
        "# confidence_interval = [10,70]                                   # [lower_bound_percent, upper_bound_percent]\n",
        "\n",
        "# for prediction in predictions:                                  # predictions list to loop through\n",
        "#   if(prediction['confidence'] * 100 >= confidence_interval[0] and \n",
        "#           prediction['confidence'] * 100 <= confidence_interval[1]):\n",
        "        \n",
        "#           # upload on success!\n",
        "#           print(' >> image uploaded!')\n",
        "#           upload_project.upload(image, num_retry_uploads=3)     # upload image in question"
      ]
    },
    {
      "cell_type": "markdown",
      "metadata": {
        "id": "LVpCFeU-K4gb"
      },
      "source": [
        "# Next steps\n",
        "\n",
        "Congratulations, you've trained a custom YOLOv7 model! Next, start thinking about deploying and [building an MLOps pipeline](https://docs.roboflow.com) so your model gets better the more data it sees in the wild."
      ]
    }
  ],
  "metadata": {
    "accelerator": "GPU",
    "colab": {
      "collapsed_sections": [],
      "provenance": []
    },
    "kernelspec": {
      "display_name": "Python 3.9.14 64-bit",
      "language": "python",
      "name": "python3"
    },
    "language_info": {
      "codemirror_mode": {
        "name": "ipython",
        "version": 3
      },
      "file_extension": ".py",
      "mimetype": "text/x-python",
      "name": "python",
      "nbconvert_exporter": "python",
      "pygments_lexer": "ipython3",
      "version": "3.9.15"
    },
    "vscode": {
      "interpreter": {
        "hash": "36cf16204b8548560b1c020c4e8fb5b57f0e4c58016f52f2d4be01e192833930"
      }
    }
  },
  "nbformat": 4,
  "nbformat_minor": 0
}
